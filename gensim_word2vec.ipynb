{
 "cells": [
  {
   "cell_type": "code",
   "execution_count": 2,
   "metadata": {},
   "outputs": [],
   "source": [
    "import pandas as pd "
   ]
  },
  {
   "cell_type": "code",
   "execution_count": 3,
   "metadata": {},
   "outputs": [],
   "source": [
    "import gensim"
   ]
  },
  {
   "cell_type": "code",
   "execution_count": 7,
   "metadata": {},
   "outputs": [],
   "source": [
    "df=pd.read_csv('iphone-12-mini-reviews.csv')\n",
    "df=df.dropna()"
   ]
  },
  {
   "cell_type": "code",
   "execution_count": 5,
   "metadata": {},
   "outputs": [
    {
     "data": {
      "text/html": [
       "<div>\n",
       "<style scoped>\n",
       "    .dataframe tbody tr th:only-of-type {\n",
       "        vertical-align: middle;\n",
       "    }\n",
       "\n",
       "    .dataframe tbody tr th {\n",
       "        vertical-align: top;\n",
       "    }\n",
       "\n",
       "    .dataframe thead th {\n",
       "        text-align: right;\n",
       "    }\n",
       "</style>\n",
       "<table border=\"1\" class=\"dataframe\">\n",
       "  <thead>\n",
       "    <tr style=\"text-align: right;\">\n",
       "      <th></th>\n",
       "      <th>reviews</th>\n",
       "    </tr>\n",
       "  </thead>\n",
       "  <tbody>\n",
       "    <tr>\n",
       "      <th>0</th>\n",
       "      <td>here is my review after 2 days of useDisplay:-...</td>\n",
       "    </tr>\n",
       "    <tr>\n",
       "      <th>1</th>\n",
       "      <td>I just say that this phone is awesome.. Small ...</td>\n",
       "    </tr>\n",
       "    <tr>\n",
       "      <th>2</th>\n",
       "      <td>Phone didn’t switch on. Battery is dead comple...</td>\n",
       "    </tr>\n",
       "    <tr>\n",
       "      <th>3</th>\n",
       "      <td>This is DAM small and looks like dummy piece, ...</td>\n",
       "    </tr>\n",
       "    <tr>\n",
       "      <th>4</th>\n",
       "      <td>All in all good phone those who loves compact ...</td>\n",
       "    </tr>\n",
       "  </tbody>\n",
       "</table>\n",
       "</div>"
      ],
      "text/plain": [
       "                                             reviews\n",
       "0  here is my review after 2 days of useDisplay:-...\n",
       "1  I just say that this phone is awesome.. Small ...\n",
       "2  Phone didn’t switch on. Battery is dead comple...\n",
       "3  This is DAM small and looks like dummy piece, ...\n",
       "4  All in all good phone those who loves compact ..."
      ]
     },
     "execution_count": 5,
     "metadata": {},
     "output_type": "execute_result"
    }
   ],
   "source": [
    "df.head()"
   ]
  },
  {
   "cell_type": "code",
   "execution_count": 21,
   "metadata": {},
   "outputs": [],
   "source": [
    "import texthero as hero "
   ]
  },
  {
   "cell_type": "code",
   "execution_count": 32,
   "metadata": {},
   "outputs": [],
   "source": [
    "df['review_text']=df['reviews'].pipe(hero.clean)"
   ]
  },
  {
   "cell_type": "code",
   "execution_count": 34,
   "metadata": {},
   "outputs": [],
   "source": [
    "review_text=df['review_text'].apply(gensim.utils.simple_preprocess)"
   ]
  },
  {
   "cell_type": "code",
   "execution_count": 42,
   "metadata": {},
   "outputs": [],
   "source": [
    "model=gensim.models.Word2Vec(window=4,workers=4,min_count=2)"
   ]
  },
  {
   "cell_type": "code",
   "execution_count": 43,
   "metadata": {},
   "outputs": [],
   "source": [
    "model.build_vocab(review_text,progress_per=100)"
   ]
  },
  {
   "cell_type": "code",
   "execution_count": 44,
   "metadata": {},
   "outputs": [
    {
     "data": {
      "text/plain": [
       "(28332, 42900)"
      ]
     },
     "execution_count": 44,
     "metadata": {},
     "output_type": "execute_result"
    }
   ],
   "source": [
    "model.train(review_text,total_examples=model.corpus_count,epochs=model.epochs)"
   ]
  },
  {
   "cell_type": "code",
   "execution_count": 45,
   "metadata": {},
   "outputs": [
    {
     "data": {
      "text/plain": [
       "[('phone', 0.9842395782470703),\n",
       " ('screen', 0.9805027842521667),\n",
       " ('apple', 0.9800920486450195),\n",
       " ('like', 0.9793592691421509),\n",
       " ('use', 0.9791490435600281),\n",
       " ('battery', 0.9775241613388062),\n",
       " ('size', 0.9772520661354065),\n",
       " ('camera', 0.9772459864616394),\n",
       " ('mini', 0.9756354093551636),\n",
       " ('small', 0.9748806357383728)]"
      ]
     },
     "execution_count": 45,
     "metadata": {},
     "output_type": "execute_result"
    }
   ],
   "source": [
    "model.wv.most_similar('iphone')"
   ]
  },
  {
   "cell_type": "code",
   "execution_count": 46,
   "metadata": {},
   "outputs": [
    {
     "data": {
      "text/plain": [
       "[('phone', 0.9771125316619873),\n",
       " ('iphone', 0.9734645485877991),\n",
       " ('battery', 0.9733169078826904),\n",
       " ('screen', 0.9720873832702637),\n",
       " ('camera', 0.9700984358787537),\n",
       " ('like', 0.9689288139343262),\n",
       " ('mini', 0.9686671495437622),\n",
       " ('size', 0.9676746129989624),\n",
       " ('small', 0.9672410488128662),\n",
       " ('use', 0.9658404588699341)]"
      ]
     },
     "execution_count": 46,
     "metadata": {},
     "output_type": "execute_result"
    }
   ],
   "source": [
    "model.wv.most_similar('good')"
   ]
  },
  {
   "cell_type": "code",
   "execution_count": 47,
   "metadata": {},
   "outputs": [
    {
     "data": {
      "text/plain": [
       "[('using', 0.8732434511184692),\n",
       " ('apple', 0.8675366640090942),\n",
       " ('phone', 0.8666197061538696),\n",
       " ('time', 0.8665927648544312),\n",
       " ('one', 0.8660109043121338),\n",
       " ('touch', 0.8658837080001831),\n",
       " ('experience', 0.8651982545852661),\n",
       " ('battery', 0.865154504776001),\n",
       " ('use', 0.8647355437278748),\n",
       " ('mini', 0.8644166588783264)]"
      ]
     },
     "execution_count": 47,
     "metadata": {},
     "output_type": "execute_result"
    }
   ],
   "source": [
    "model.wv.most_similar('bad')"
   ]
  },
  {
   "cell_type": "code",
   "execution_count": 55,
   "metadata": {},
   "outputs": [],
   "source": [
    "features=['camera','screen','touch','battery','size']\n",
    "attributes=['good','bad']"
   ]
  },
  {
   "cell_type": "code",
   "execution_count": 56,
   "metadata": {},
   "outputs": [
    {
     "name": "stdout",
     "output_type": "stream",
     "text": [
      "camera ----------------> good\n",
      "0.9700983\n",
      "-------------------------\n",
      "camera ----------------> bad\n",
      "0.86037016\n",
      "-------------------------\n",
      "screen ----------------> good\n",
      "0.9720873\n",
      "-------------------------\n",
      "screen ----------------> bad\n",
      "0.85933924\n",
      "-------------------------\n",
      "touch ----------------> good\n",
      "0.94038457\n",
      "-------------------------\n",
      "touch ----------------> bad\n",
      "0.86588365\n",
      "-------------------------\n",
      "battery ----------------> good\n",
      "0.97331685\n",
      "-------------------------\n",
      "battery ----------------> bad\n",
      "0.86515445\n",
      "-------------------------\n",
      "size ----------------> good\n",
      "0.9676746\n",
      "-------------------------\n",
      "size ----------------> bad\n",
      "0.8593996\n",
      "-------------------------\n"
     ]
    }
   ],
   "source": [
    "for feature in features:\n",
    "    for attribute in attributes:\n",
    "        print(feature ,'---------------->', attribute)\n",
    "        print(model.wv.similarity(w1=feature,w2=attribute))\n",
    "        print('-------------------------')"
   ]
  },
  {
   "cell_type": "code",
   "execution_count": null,
   "metadata": {},
   "outputs": [],
   "source": []
  }
 ],
 "metadata": {
  "kernelspec": {
   "display_name": "Python 3",
   "language": "python",
   "name": "python3"
  },
  "language_info": {
   "codemirror_mode": {
    "name": "ipython",
    "version": 3
   },
   "file_extension": ".py",
   "mimetype": "text/x-python",
   "name": "python",
   "nbconvert_exporter": "python",
   "pygments_lexer": "ipython3",
   "version": "3.8.5"
  }
 },
 "nbformat": 4,
 "nbformat_minor": 4
}
